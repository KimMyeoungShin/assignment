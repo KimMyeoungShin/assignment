{
 "cells": [
  {
   "cell_type": "markdown",
   "metadata": {
    "id": "ayBWQxnU9GWc"
   },
   "source": [
    "# LeetCode 225. Implement Stack using Queues"
   ]
  },
  {
   "cell_type": "code",
   "execution_count": null,
   "metadata": {
    "id": "rNhYZ3tp9NSa"
   },
   "outputs": [],
   "source": [
    "from collections import deque\n",
    "\n",
    "class MyStack:\n",
    "\n",
    "    def __init__(self):\n",
    "        self.queue = deque()\n",
    "\n",
    "    def push(self, x: int) -> None:\n",
    "        self.queue.append(x)\n",
    "\n",
    "    def pop(self) -> int:\n",
    "        for _ in range(len(self.queue) - 1):\n",
    "            self.queue.append(self.queue.popleft())\n",
    "        return self.queue.popleft()\n",
    "\n",
    "    def top(self) -> int:\n",
    "        return self.queue[-1]\n",
    "\n",
    "    def empty(self) -> bool:\n",
    "        return len(self.queue) == 0\n"
   ]
  },
  {
   "cell_type": "markdown",
   "metadata": {
    "id": "txBT4Wbi93Xb"
   },
   "source": [
    "# LeetCode 232. Implement Queue using Stacks"
   ]
  },
  {
   "cell_type": "code",
   "execution_count": null,
   "metadata": {
    "id": "OwsZKInC937D"
   },
   "outputs": [],
   "source": [
    "class MyQueue:\n",
    "\n",
    "    def __init__(self):\n",
    "        self.stack1 = []\n",
    "        self.stack2 = []\n",
    "\n",
    "    def push(self, x: int) -> None:\n",
    "        self.stack1.append(x)\n",
    "\n",
    "    def pop(self) -> int:\n",
    "        if not self.stack2:\n",
    "            while self.stack1:\n",
    "                self.stack2.append(self.stack1.pop())\n",
    "        return self.stack2.pop()\n",
    "\n",
    "    def peek(self) -> int:\n",
    "        if not self.stack2:\n",
    "            while self.stack1:\n",
    "                self.stack2.append(self.stack1.pop())\n",
    "        return self.stack2[-1]\n",
    "\n",
    "    def empty(self) -> bool:\n",
    "        return not self.stack1 and not self.stack2"
   ]
  },
  {
   "cell_type": "markdown",
   "metadata": {
    "id": "6TUV7W0J-hMn"
   },
   "source": [
    "# 큐 연습문제"
   ]
  },
  {
   "cell_type": "code",
   "execution_count": null,
   "metadata": {
    "id": "-PijGE91-9n2"
   },
   "outputs": [],
   "source": [
    "#1번\n",
    "class ListQueue:\n",
    "    def __init__(self):\n",
    "        self.__queue = []\n",
    "\n",
    "    def enqueue(self, item):\n",
    "        self.__queue.insert(0, item)\n",
    "\n",
    "    def dequeue(self):\n",
    "        return self.__queue.pop()\n",
    "\n",
    "    def front(self):\n",
    "        if self.__queue.is_empty():\n",
    "            return None\n",
    "        else:\n",
    "            return self.__queue[len(self.__queue) - 1]\n",
    "\n",
    "    def is_empty(self) -> bool:\n",
    "        return not bool(self.__queue)\n",
    "\n",
    "    def dequeue_all(self):\n",
    "        self.__queue.clear()"
   ]
  },
  {
   "cell_type": "code",
   "execution_count": null,
   "metadata": {
    "id": "vZNPhpOV-93I"
   },
   "outputs": [],
   "source": [
    "#2번\n",
    "def is_in_set(string: String) -> bool:\n",
    "    q = ListQueue()\n",
    "    index = 0\n",
    "    while string[index] != '$':\n",
    "        q.enqueue(string[index])\n",
    "        index += 1\n",
    "    index += 1\n",
    "    while index < len(string):\n",
    "        if q.dequeue() != string[index]:\n",
    "            return False\n",
    "        else:\n",
    "            index += 1\n",
    "    return True"
   ]
  },
  {
   "cell_type": "code",
   "execution_count": null,
   "metadata": {
    "id": "WX8AN4Qc-9_3"
   },
   "outputs": [],
   "source": [
    "#3번\n",
    "def copy_linked_queue(a: LinkedQueue, b: LinkedQueue):\n",
    "    b.dequeue_all()\n",
    "    temp_queue = LinkedQueue()\n",
    "    while not a.is_empty():\n",
    "        temp_queue.enqueue(a.dequeue())\n",
    "    while not temp_queue.is_empty():\n",
    "        a.enqueue(temp_queue.front())\n",
    "        b.enqueue(temp_queue.dequeue())"
   ]
  },
  {
   "cell_type": "code",
   "execution_count": null,
   "metadata": {
    "id": "gxYNvfHF--HI"
   },
   "outputs": [],
   "source": [
    "#4번\n",
    "def push(q1: LinkedQueue, q2: LinkedQueue, item):\n",
    "    q2.dequeue_all()\n",
    "    while not q1.is_empty():\n",
    "        q2.enqueue(q1.dequeue())\n",
    "    q1.enqueue(item)\n",
    "    while not q2.is_empty():\n",
    "        q1.enqueue(q2.dequeue())\n",
    "\n",
    "def pop(q1: LinkedQueue, q2: LinkedQueue):\n",
    "    q2.dequeue_all()\n",
    "    count = 0\n",
    "    while not q1.is_empty():\n",
    "        q2.enqueue(q1.dequeue())\n",
    "        count += 1\n",
    "    while _ in range(count - 1):\n",
    "        q1.enqueue(q2.dequeue())\n",
    "    return q2.dequeue()"
   ]
  },
  {
   "cell_type": "code",
   "execution_count": null,
   "metadata": {
    "id": "Bkb1_CN6--Nn"
   },
   "outputs": [],
   "source": [
    "#5번\n",
    "def enqueue(s1: LinkedStack, s2: LinkedStack, item):\n",
    "    s2.pop_all()\n",
    "    while not s1.is_empty():\n",
    "        s2.push(s1.pop())\n",
    "    s1.push(item)\n",
    "    while not s2.is_empty():\n",
    "        s1.push(s2.pop())\n",
    "\n",
    "def dequeue(s1: LinkedStack, s2: LinkedStack):\n",
    "    s2.pop_all()\n",
    "    while not s1.is_empty():\n",
    "        s2.push(s1.pop())\n",
    "    ret_item = s2.pop()\n",
    "    while not s2.is_empty():\n",
    "        s1.push(s2.pop())\n",
    "    return ret_item"
   ]
  },
  {
   "cell_type": "code",
   "execution_count": null,
   "metadata": {
    "id": "OVfNfIpD--T2"
   },
   "outputs": [],
   "source": [
    "#6번\n",
    "구현하고자 하는 Deque는 단방향원형리스트를 기반으로 한다.\n",
    "또한, 이 Deque의 front는 리스트의 맨 앞이며 tail은 리스트의 맨 끝으로 한다.\n",
    "enqueue()의 수행시간은 Deque의 front에서 수행할 시 Θ(1), Deque의 tail에서 수행할 시 Θ(1)이다.\n",
    "즉 수행 위치에 상관없이 enqueue()의 수행 시간은 Θ(1)이다.\n",
    "dequeue()의 수행시간은 Deque의 front에서 수행할 시 Θ(1), Deque의 tail에서 수행할 시 Θ(1)이다.\n",
    "즉 수행 위치에 상관없이 dequeue()의 수행 시간은 Θ(1)이다."
   ]
  },
  {
   "cell_type": "code",
   "execution_count": null,
   "metadata": {
    "id": "etDpvbnT--aI"
   },
   "outputs": [],
   "source": [
    "#7번\n",
    "구현하고자 하는 Deque는 단방향리스트를 기반으로 한다.\n",
    "또한, 이 Deque의 front는 리스트의 맨 앞이며 tail은 리스트의 맨 끝으로 한다.\n",
    "enqueue()의 수행시간은 Deque의 front에서 수행할 시 Θ(1), Deque의 tail에서 수행할 시 Θ(n)이다.\n",
    "즉 enqueue()의 수행 시간은 최악의 경우를 고려해 Θ(n)이다.\n",
    "dequeue()의 수행시간은 Deque의 front에서 수행할 시 Θ(1), Deque의 tail에서 수행할 시 Θ(n)이다.\n",
    "즉 dequeue()의 수행 시간은 최악의 경우를 고려해 Θ(n)이다."
   ]
  },
  {
   "cell_type": "code",
   "execution_count": null,
   "metadata": {
    "id": "WJ7d_yXV--fo"
   },
   "outputs": [],
   "source": [
    "#8번\n",
    "class ListDeque:\n",
    "    def __init__(self):\n",
    "        self.__queue = []\n",
    "\n",
    "    def enqueue(self, item):\n",
    "        self.__queue.append(item)\n",
    "\n",
    "    def dequeue(self):\n",
    "        return self.__queue.pop(0)\n",
    "\n",
    "    def push(self, item):\n",
    "        self.__queue.insert(0, item)\n",
    "\n",
    "    def pop(self):\n",
    "        return self.__queue.pop(len(self.__queue) - 1)\n",
    "\n",
    "    def front(self):\n",
    "        if self.is_empty():\n",
    "            return None\n",
    "        else:\n",
    "            return self.__queue[0]\n",
    "\n",
    "    def rear(self):\n",
    "        if self.is_empty():\n",
    "            return None\n",
    "        else:\n",
    "            return self.__queue[len(self.__queue) - 1]\n",
    "\n",
    "    def is_empty(self):\n",
    "        return not bool(self.__queue)\n",
    "\n",
    "    def deque_all(self):\n",
    "        self.__queue.clear()\n",
    "\n",
    "    def print_deque(self):\n",
    "        print(\"Dequeue from front:\", end = ' ')\n",
    "        for index in range(len(self.__queue)):\n",
    "            print(self.__queue[index], end = ' ')\n",
    "        print()"
   ]
  }
 ],
 "metadata": {
  "colab": {
   "provenance": []
  },
  "kernelspec": {
   "display_name": "Python 3",
   "name": "python3"
  },
  "language_info": {
   "name": "python"
  }
 },
 "nbformat": 4,
 "nbformat_minor": 0
}
